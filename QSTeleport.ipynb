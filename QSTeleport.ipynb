{
 "cells": [
  {
   "cell_type": "code",
   "execution_count": 4,
   "id": "23df8386",
   "metadata": {},
   "outputs": [
    {
     "ename": "SyntaxError",
     "evalue": "invalid syntax (1409612092.py, line 1)",
     "output_type": "error",
     "traceback": [
      "\u001b[0;36m  Input \u001b[0;32mIn [4]\u001b[0;36m\u001b[0m\n\u001b[0;31m    // https://github.com/microsoft/Quantum/blob/main/samples/getting-started/teleportation/TeleportationSample.qs\u001b[0m\n\u001b[0m    ^\u001b[0m\n\u001b[0;31mSyntaxError\u001b[0m\u001b[0;31m:\u001b[0m invalid syntax\n"
     ]
    }
   ],
   "source": [
    "// https://github.com/microsoft/Quantum/blob/main/samples/getting-started/teleportation/TeleportationSample.qs\n",
    "// Copyright (c) Microsoft Corporation.\n",
    "// Licensed under the MIT License.\n",
    "\n",
    "open Microsoft.Quantum.Intrinsic;\n",
    "open Microsoft.Quantum.Canon;\n",
    "open Microsoft.Quantum.Measurement;\n",
    "open Microsoft.Quantum.Random;\n",
    "\n",
    "\n",
    "operation Teleport (msg : Qubit, target : Qubit) : Unit {\n",
    "    use register = Qubit();\n",
    "\n",
    "    H(register);\n",
    "    CNOT(register, target);\n",
    "\n",
    "    CNOT(msg, register);\n",
    "    H(msg);\n",
    "\n",
    "\n",
    "    if (MResetZ(msg) == One) { Z(target); }\n",
    "\n",
    "    if (IsResultOne(MResetZ(register))) { X(target); }\n",
    "}\n",
    "\n",
    "operation TeleportClassicalMessage (message : Bool) : Bool {\n",
    "   \n",
    "    use (msg, target) = (Qubit(), Qubit());\n",
    "\n",
    "   \n",
    "    if (message) {\n",
    "        X(msg);\n",
    "    }\n",
    "\n",
    " \n",
    "    Teleport(msg, target);\n",
    "\n",
    "    \n",
    "    return MResetZ(target) == One;\n",
    "}\n",
    "\n",
    "operation TeleportRandomMessage () : Unit {\n",
    "   \n",
    "    use (msg, target) = (Qubit(), Qubit());\n",
    "    PrepareRandomMessage(msg);\n",
    "    Teleport(msg, target);\n",
    "    if (MeasureIsPlus(target))  { Message(\"Received |+>\"); }\n",
    "    if (MeasureIsMinus(target)) { Message(\"Received |->\"); }\n",
    "    Reset(msg);\n",
    "    Reset(target);\n",
    "}\n",
    "\n",
    "operation PrepareRandomMessage(q: Qubit) : Unit {        \n",
    "    let choice = DrawRandomBool(0.5);\n",
    "\n",
    "    if (choice) {\n",
    "        Message(\"Sending |−⟩\");\n",
    "        SetToMinus(q);\n",
    "    } else {\n",
    "        Message(\"Sending |+⟩\");\n",
    "        SetToPlus(q);\n",
    "    }\n",
    "\n",
    "}\n",
    "\n",
    "operation SetToPlus(q: Qubit) : Unit {\n",
    "    Reset(q);\n",
    "    H(q);\n",
    "}\n",
    "\n",
    "operation SetToMinus(q: Qubit) : Unit {\n",
    "    Reset(q);\n",
    "    X(q);\n",
    "    H(q);\n",
    "}\n",
    "\n",
    "operation MeasureIsPlus(q: Qubit) : Bool {\n",
    "    return (Measure([PauliX], [q]) == Zero);\n",
    "}\n",
    "\n",
    "operation MeasureIsMinus(q: Qubit) : Bool {\n",
    "    return (Measure([PauliX], [q]) == One);\n",
    "}\n",
    "\n",
    "@EntryPoint()\n",
    "operation RunProgram () : Unit {\n",
    "    for idxRun in 1 .. 8 {\n",
    "        let sent = DrawRandomBool(0.5);\n",
    "        let received = TeleportClassicalMessage(sent);\n",
    "        Message($\"Round {idxRun}: Sent {sent}, got {received}.\");\n",
    "        Message(sent == received ? \"Teleportation successful!\" | \"\");\n",
    "    }\n",
    "}\n"
   ]
  },
  {
   "cell_type": "code",
   "execution_count": null,
   "id": "87fae001",
   "metadata": {},
   "outputs": [
    {
     "name": "stdout",
     "output_type": "stream",
     "text": [
      "Sending |−⟩\n",
      "Received |->\n"
     ]
    },
    {
     "data": {
      "application/x-qsharp-data": "{\"@type\":\"tuple\"}",
      "text/plain": [
       "()"
      ]
     },
     "execution_count": 43,
     "metadata": {},
     "output_type": "execute_result"
    }
   ],
   "source": [
    "%simulate TeleportRandomMessage"
   ]
  },
  {
   "cell_type": "code",
   "execution_count": null,
   "id": "af0ecd08",
   "metadata": {},
   "outputs": [],
   "source": []
  },
  {
   "cell_type": "code",
   "execution_count": null,
   "id": "298cf11d",
   "metadata": {},
   "outputs": [],
   "source": []
  }
 ],
 "metadata": {
  "interpreter": {
   "hash": "bd3b7dfcd2b13a026b250786b9eda90b526374bbce09e6ec8d4bc0b347ad9a32"
  },
  "kernelspec": {
   "display_name": "Python 3.9.12 ('qsharp-env')",
   "language": "python",
   "name": "python3"
  },
  "language_info": {
   "codemirror_mode": {
    "name": "ipython",
    "version": 3
   },
   "file_extension": ".py",
   "mimetype": "text/x-python",
   "name": "python",
   "nbconvert_exporter": "python",
   "pygments_lexer": "ipython3",
   "version": "3.9.12"
  }
 },
 "nbformat": 4,
 "nbformat_minor": 5
}
