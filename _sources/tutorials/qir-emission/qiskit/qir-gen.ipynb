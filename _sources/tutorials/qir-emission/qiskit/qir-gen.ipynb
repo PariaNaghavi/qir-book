{
 "cells": [
  {
   "attachments": {},
   "cell_type": "markdown",
   "metadata": {},
   "source": [
    "## Qiskit ➡️ QIR ## "
   ]
  },
  {
   "cell_type": "code",
   "execution_count": 1,
   "metadata": {},
   "outputs": [],
   "source": [
    "from qiskit import QuantumRegister, ClassicalRegister, QuantumCircuit\n",
    "from qiskit import BasicAer, Aer\n",
    "from qiskit_qir import to_qir"
   ]
  },
  {
   "cell_type": "code",
   "execution_count": 2,
   "metadata": {},
   "outputs": [],
   "source": [
    "backend = BasicAer.get_backend(\"qasm_simulator\")\n",
    "q = QuantumRegister(3, \"q\")\n",
    "c0 = ClassicalRegister(1, \"c0\")\n",
    "c1 = ClassicalRegister(1, \"c1\")\n",
    "c2 = ClassicalRegister(1, \"c2\")\n",
    "qc = QuantumCircuit(q, c0, c1, c2, name=\"teleport\")"
   ]
  },
  {
   "cell_type": "code",
   "execution_count": 3,
   "metadata": {},
   "outputs": [],
   "source": [
    "def state_initialize (qc, msg):\n",
    "    if msg == 1: qc.initialize([0,1], 0)\n",
    "\n",
    "def teleportation(qc):\n",
    "    qc.h(q[1])\n",
    "    qc.cx(q[1], q[2])\n",
    "    qc.cx(q[0], q[1])\n",
    "    qc.h(q[0])\n",
    "    qc.measure(q[0], c0[0])\n",
    "    qc.measure(q[1], c1[0])\n",
    "    qc.z(q[2]).c_if(c0, 1)\n",
    "    qc.x(q[2]).c_if(c1, 1)\n",
    "    qc.measure(q[2], c2[0])\n",
    "\n"
   ]
  },
  {
   "cell_type": "code",
   "execution_count": 4,
   "metadata": {},
   "outputs": [],
   "source": [
    "to_send=[0, 1, 0, 0, 1, 0, 0, 0, 0, 1, 1, 0, 0, 1, 0, 1, 0, 1, 1, 0, 1, 1,\n",
    "       0, 0, 0, 1, 1, 0, 1, 1, 0, 0, 0, 1, 1, 0, 1, 1, 1, 1, 0, 0, 1, 0,\n",
    "       0, 0, 0, 0, 0, 1, 1, 1, 0, 1, 1, 1, 0, 1, 1, 0, 1, 1, 1, 1, 0, 1,\n",
    "       1, 1, 0, 0, 1, 0, 0, 1, 1, 0, 1, 1, 0, 0, 0, 1, 1, 0, 0, 1, 0, 0,\n",
    "       0, 0, 1, 0, 0, 0, 0, 1]"
   ]
  },
  {
   "cell_type": "code",
   "execution_count": 5,
   "metadata": {},
   "outputs": [],
   "source": [
    "aer_sim = Aer.get_backend('aer_simulator')\n",
    "teleported=[]\n",
    "for x in to_send:\n",
    "    q = QuantumRegister(3, \"q\")\n",
    "    c0 = ClassicalRegister(1, \"c0\")\n",
    "    c1 = ClassicalRegister(1, \"c1\")\n",
    "    c2 = ClassicalRegister(1, \"c2\")\n",
    "    qc = QuantumCircuit(q, c0, c1, c2, name=\"teleport\")\n",
    "    state_initialize(qc, x)\n",
    "    teleportation(qc)\n",
    "    results = aer_sim.run(qc).result()\n",
    "    answer = results.get_counts()\n",
    "    states=list(answer.keys())\n",
    "    teleported.append(int(states[0][0]))\n",
    "    "
   ]
  },
  {
   "cell_type": "code",
   "execution_count": 6,
   "metadata": {},
   "outputs": [
    {
     "data": {
      "text/plain": [
       "'Hello world!'"
      ]
     },
     "execution_count": 6,
     "metadata": {},
     "output_type": "execute_result"
    }
   ],
   "source": [
    "teleported_str = ''.join(str(x) for x in teleported)\n",
    "teleported_base2= int(teleported_str, 2)\n",
    "teleported_base2_chunks= (teleported_base2.bit_length() +7) // 8\n",
    "teleported_bytes = teleported_base2.to_bytes(teleported_base2_chunks, \"big\")\n",
    "received =teleported_bytes.decode(encoding='utf-8')\n",
    "received\n"
   ]
  },
  {
   "cell_type": "code",
   "execution_count": 7,
   "metadata": {},
   "outputs": [
    {
     "data": {
      "text/plain": [
       "'; ModuleID = \\'teleport\\'\\nsource_filename = \"teleport\"\\n\\n%Result = type opaque\\n%Qubit = type opaque\\n\\ndeclare void @__quantum__rt__array_start_record_output()\\n\\ndeclare void @__quantum__rt__result_record_output(%Result*)\\n\\ndeclare void @__quantum__rt__array_end_record_output()\\n\\ndefine void @main() #0 {\\nentry:\\n  call void @__quantum__qis__reset__body(%Qubit* null)\\n  call void @__quantum__qis__ry__body(double 0x400921FB54442D18, %Qubit* null)\\n  call void @__quantum__qis__h__body(%Qubit* inttoptr (i64 1 to %Qubit*))\\n  call void @__quantum__qis__cnot__body(%Qubit* inttoptr (i64 1 to %Qubit*), %Qubit* inttoptr (i64 2 to %Qubit*))\\n  call void @__quantum__qis__cnot__body(%Qubit* null, %Qubit* inttoptr (i64 1 to %Qubit*))\\n  call void @__quantum__qis__h__body(%Qubit* null)\\n  call void @__quantum__qis__mz__body(%Qubit* null, %Result* null)\\n  call void @__quantum__qis__mz__body(%Qubit* inttoptr (i64 1 to %Qubit*), %Result* inttoptr (i64 1 to %Result*))\\n  %equal = call i1 @__quantum__qis__read_result__body(%Result* null)\\n  br i1 %equal, label %then, label %else\\n\\nthen:                                             ; preds = %entry\\n  call void @__quantum__qis__z__body(%Qubit* inttoptr (i64 2 to %Qubit*))\\n  br label %continue\\n\\nelse:                                             ; preds = %entry\\n  br label %continue\\n\\ncontinue:                                         ; preds = %else, %then\\n  %equal1 = call i1 @__quantum__qis__read_result__body(%Result* inttoptr (i64 1 to %Result*))\\n  br i1 %equal1, label %then2, label %else3\\n\\nthen2:                                            ; preds = %continue\\n  call void @__quantum__qis__x__body(%Qubit* inttoptr (i64 2 to %Qubit*))\\n  br label %continue4\\n\\nelse3:                                            ; preds = %continue\\n  br label %continue4\\n\\ncontinue4:                                        ; preds = %else3, %then2\\n  call void @__quantum__qis__mz__body(%Qubit* inttoptr (i64 2 to %Qubit*), %Result* inttoptr (i64 2 to %Result*))\\n  call void @__quantum__rt__array_start_record_output()\\n  call void @__quantum__rt__result_record_output(%Result* null)\\n  call void @__quantum__rt__array_end_record_output()\\n  call void @__quantum__rt__array_start_record_output()\\n  call void @__quantum__rt__result_record_output(%Result* inttoptr (i64 1 to %Result*))\\n  call void @__quantum__rt__array_end_record_output()\\n  call void @__quantum__rt__array_start_record_output()\\n  call void @__quantum__rt__result_record_output(%Result* inttoptr (i64 2 to %Result*))\\n  call void @__quantum__rt__array_end_record_output()\\n  ret void\\n}\\n\\ndeclare void @__quantum__qis__reset__body(%Qubit*)\\n\\ndeclare void @__quantum__qis__ry__body(double, %Qubit*)\\n\\ndeclare void @__quantum__qis__h__body(%Qubit*)\\n\\ndeclare void @__quantum__qis__cnot__body(%Qubit*, %Qubit*)\\n\\ndeclare void @__quantum__qis__mz__body(%Qubit*, %Result*)\\n\\ndeclare i1 @__quantum__qis__read_result__body(%Result*)\\n\\ndeclare void @__quantum__qis__z__body(%Qubit*)\\n\\ndeclare void @__quantum__qis__x__body(%Qubit*)\\n\\nattributes #0 = { \"EntryPoint\" \"requiredQubits\"=\"3\" \"requiredResults\"=\"3\" }\\n'"
      ]
     },
     "execution_count": 7,
     "metadata": {},
     "output_type": "execute_result"
    }
   ],
   "source": [
    "qir = to_qir(qc)\n",
    "qir "
   ]
  },
  {
   "cell_type": "code",
   "execution_count": null,
   "metadata": {},
   "outputs": [],
   "source": []
  }
 ],
 "metadata": {
  "kernelspec": {
   "display_name": "base",
   "language": "python",
   "name": "python3"
  },
  "language_info": {
   "codemirror_mode": {
    "name": "ipython",
    "version": 3
   },
   "file_extension": ".py",
   "mimetype": "text/x-python",
   "name": "python",
   "nbconvert_exporter": "python",
   "pygments_lexer": "ipython3",
   "version": "3.9.12"
  },
  "orig_nbformat": 4,
  "vscode": {
   "interpreter": {
    "hash": "f3b47da1c7a8498ae63cb9ac5ddca43c2f8b16a6d4c6b7e3b75cc328dd9209cd"
   }
  }
 },
 "nbformat": 4,
 "nbformat_minor": 2
}
