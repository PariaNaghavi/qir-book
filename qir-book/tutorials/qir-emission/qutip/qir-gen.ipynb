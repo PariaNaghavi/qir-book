{
 "cells": [
  {
   "attachments": {},
   "cell_type": "markdown",
   "metadata": {},
   "source": [
    "## QuTip ➡️ QIR 🚧 ## \n"
   ]
  },
  {
   "cell_type": "markdown",
   "metadata": {},
   "source": []
  },
  {
   "cell_type": "code",
   "execution_count": 2,
   "metadata": {},
   "outputs": [],
   "source": [
    "from qutip import *  \n",
    "from qutip.qip.circuit import QubitCircuit, Measurement, Gate\n",
    "from qutip import basis, tensor, identity\n",
    "import numpy as np"
   ]
  },
  {
   "cell_type": "code",
   "execution_count": 3,
   "metadata": {},
   "outputs": [],
   "source": [
    "teleportation = QubitCircuit(3, num_cbits = 2, input_states = [\"\\psi\", \"0\", \"0\", \"c0\", \"c1\"])\n",
    "\n",
    "teleportation.add_gate(\"SNOT\", targets=[1])\n",
    "teleportation.add_gate(\"CNOT\", targets=[2], controls=[1])\n",
    "teleportation.add_gate(\"CNOT\", targets=[1], controls=[0])\n",
    "teleportation.add_gate(\"SNOT\", targets=[0])\n",
    "teleportation.add_measurement(\"M0\", targets=[0], classical_store=1)\n",
    "teleportation.add_measurement(\"M1\", targets=[1], classical_store=0)\n",
    "teleportation.add_gate(\"X\", targets=[2], classical_controls=[0])\n",
    "teleportation.add_gate(\"Z\", targets=[2], classical_controls=[1])\n"
   ]
  },
  {
   "cell_type": "code",
   "execution_count": 4,
   "metadata": {},
   "outputs": [
    {
     "data": {
      "text/plain": [
       "[Gate(SNOT, targets=[1], controls=None, classical controls=None, control_value=None),\n",
       " Gate(CNOT, targets=[2], controls=[1], classical controls=None, control_value=None),\n",
       " Gate(CNOT, targets=[1], controls=[0], classical controls=None, control_value=None),\n",
       " Gate(SNOT, targets=[0], controls=None, classical controls=None, control_value=None),\n",
       " Measurement(M0, target=[0], classical_store=1),\n",
       " Measurement(M1, target=[1], classical_store=0),\n",
       " Gate(X, targets=[2], controls=None, classical controls=[0], control_value=None),\n",
       " Gate(Z, targets=[2], controls=None, classical controls=[1], control_value=None)]"
      ]
     },
     "execution_count": 4,
     "metadata": {},
     "output_type": "execute_result"
    }
   ],
   "source": [
    "teleportation.gates"
   ]
  },
  {
   "cell_type": "code",
   "execution_count": 5,
   "metadata": {},
   "outputs": [],
   "source": [
    "def ket_0():\n",
    "    return ket(\"0\")\n",
    "\n",
    "def ket_1():\n",
    "    return ket(\"1\")\n",
    "to_send = [0, 1, 0, 0, 1, 0, 0, 0, 0, 1, 1, 0, 0, 1, 0, 1, 0, 1, 1, 0, 1, 1,\n",
    "       0, 0, 0, 1, 1, 0, 1, 1, 0, 0, 0, 1, 1, 0, 1, 1, 1, 1, 0, 0, 1, 0,\n",
    "       0, 0, 0, 0, 0, 1, 1, 1, 0, 1, 1, 1, 0, 1, 1, 0, 1, 1, 1, 1, 0, 1,\n",
    "       1, 1, 0, 0, 1, 0, 0, 1, 1, 0, 1, 1, 0, 0, 0, 1, 1, 0, 0, 1, 0, 0,\n",
    "       0, 0, 1, 0, 0, 0, 0, 1]"
   ]
  },
  {
   "cell_type": "code",
   "execution_count": 6,
   "metadata": {},
   "outputs": [],
   "source": [
    "# collecting teleported messages \n",
    "teleported=[]\n",
    "for x in to_send: \n",
    "    msg= ket(str(x))\n",
    "    state = tensor(msg, basis(2,0), basis(2,0))\n",
    "    state_final = teleportation.run(state)\n",
    "    final_measurement = Measurement(\"start\", targets=[2])\n",
    "    result = final_measurement.measurement_comp_basis(state_final)[-1]\n",
    "    if np.array_equal(result, [1, 0]): teleported.append (0)\n",
    "    if np.array_equal(result, [0, 1]): teleported.append (1)\n"
   ]
  },
  {
   "cell_type": "code",
   "execution_count": 7,
   "metadata": {},
   "outputs": [
    {
     "data": {
      "text/plain": [
       "'Hello world!'"
      ]
     },
     "execution_count": 7,
     "metadata": {},
     "output_type": "execute_result"
    }
   ],
   "source": [
    "# encoding binary to utf-8\n",
    "teleported_str = ''.join(str(x) for x in teleported)\n",
    "teleported_base2= int(teleported_str, 2)\n",
    "teleported_base2\n",
    "teleported_base2_chunks= (teleported_base2.bit_length() +7) // 8\n",
    "teleported_bytes = teleported_base2.to_bytes(teleported_base2_chunks, \"big\")\n",
    "received =teleported_bytes.decode(encoding='utf-8')\n",
    "received"
   ]
  },
  {
   "attachments": {},
   "cell_type": "markdown",
   "metadata": {},
   "source": [
    "# 🚧 under construction 🚧 #"
   ]
  },
  {
   "cell_type": "code",
   "execution_count": 8,
   "metadata": {},
   "outputs": [],
   "source": [
    "import pyqir\n",
    "from pyqir.generator import BasicQisBuilder, SimpleModule\n",
    "from qutip_qip_qir import circuit_to_qir\n"
   ]
  },
  {
   "cell_type": "code",
   "execution_count": 9,
   "metadata": {},
   "outputs": [],
   "source": [
    "from qutip_qip_qir import circuit_to_qir"
   ]
  },
  {
   "cell_type": "code",
   "execution_count": 10,
   "metadata": {},
   "outputs": [
    {
     "ename": "AttributeError",
     "evalue": "module 'qutip.qip.circuit' has no attribute 'N'",
     "output_type": "error",
     "traceback": [
      "\u001b[0;31m---------------------------------------------------------------------------\u001b[0m",
      "\u001b[0;31mAttributeError\u001b[0m                            Traceback (most recent call last)",
      "Cell \u001b[0;32mIn[10], line 1\u001b[0m\n\u001b[0;32m----> 1\u001b[0m qir_bitcode \u001b[39m=\u001b[39m circuit_to_qir(circuit, \u001b[39mformat\u001b[39;49m\u001b[39m=\u001b[39;49m\u001b[39m\"\u001b[39;49m\u001b[39mbitcode\u001b[39;49m\u001b[39m\"\u001b[39;49m)\n\u001b[1;32m      2\u001b[0m \u001b[39mwith\u001b[39;00m \u001b[39mopen\u001b[39m(\u001b[39m'\u001b[39m\u001b[39mcircuit.bc\u001b[39m\u001b[39m'\u001b[39m, \u001b[39m'\u001b[39m\u001b[39mwb\u001b[39m\u001b[39m'\u001b[39m) \u001b[39mas\u001b[39;00m f:\n\u001b[1;32m      3\u001b[0m     f\u001b[39m.\u001b[39mwrite(qir_bitcode)\n",
      "File \u001b[0;32m/workspaces/qir-book/qir-book/tutorials/qir-emission/qutip/qutip_qip_qir.py:195\u001b[0m, in \u001b[0;36mcircuit_to_qir\u001b[0;34m(circuit, format, module_name)\u001b[0m\n\u001b[1;32m    188\u001b[0m         \u001b[39mraise\u001b[39;00m \u001b[39mValueError\u001b[39;00m(\n\u001b[1;32m    189\u001b[0m             \u001b[39mf\u001b[39m\u001b[39m\"\u001b[39m\u001b[39mGate \u001b[39m\u001b[39m{\u001b[39;00mop\u001b[39m.\u001b[39mname\u001b[39m}\u001b[39;00m\u001b[39m not supported by the basic QIR builder, \u001b[39m\u001b[39m\"\u001b[39m\n\u001b[1;32m    190\u001b[0m             \u001b[39m+\u001b[39m \u001b[39m\"\u001b[39m\u001b[39mand may require a custom declaration.\u001b[39m\u001b[39m\"\u001b[39m\n\u001b[1;32m    191\u001b[0m         )\n\u001b[1;32m    193\u001b[0m fmt \u001b[39m=\u001b[39m QirFormat\u001b[39m.\u001b[39mensure(\u001b[39mformat\u001b[39m)\n\u001b[0;32m--> 195\u001b[0m module \u001b[39m=\u001b[39m pqg\u001b[39m.\u001b[39mSimpleModule(module_name, circuit\u001b[39m.\u001b[39;49mN, circuit\u001b[39m.\u001b[39mnum_cbits \u001b[39mor\u001b[39;00m \u001b[39m0\u001b[39m)\n\u001b[1;32m    196\u001b[0m builder \u001b[39m=\u001b[39m pqg\u001b[39m.\u001b[39mBasicQisBuilder(module\u001b[39m.\u001b[39mbuilder)\n\u001b[1;32m    198\u001b[0m \u001b[39mfor\u001b[39;00m op \u001b[39min\u001b[39;00m circuit\u001b[39m.\u001b[39mgates:\n\u001b[1;32m    199\u001b[0m     \u001b[39m# If we have a QuTiP gate, then we need to convert it into one of\u001b[39;00m\n\u001b[1;32m    200\u001b[0m     \u001b[39m# the reserved operation names in the QIR base profile's quantum\u001b[39;00m\n\u001b[1;32m    201\u001b[0m     \u001b[39m# instruction set (QIS).\u001b[39;00m\n",
      "\u001b[0;31mAttributeError\u001b[0m: module 'qutip.qip.circuit' has no attribute 'N'"
     ]
    }
   ],
   "source": [
    "\n",
    "qir_bitcode = circuit_to_qir(circuit, format=\"bitcode\")\n",
    "with open('circuit.bc', 'wb') as f:\n",
    "    f.write(qir_bitcode)"
   ]
  },
  {
   "cell_type": "code",
   "execution_count": null,
   "metadata": {},
   "outputs": [
    {
     "ename": "NotImplementedError",
     "evalue": "Instruction Gate(SNOT, targets=[1], controls=None, classical controls=None, control_value=None) is not implemented in the QIR base profile and may require a custom declaration.",
     "output_type": "error",
     "traceback": [
      "\u001b[0;31m---------------------------------------------------------------------------\u001b[0m",
      "\u001b[0;31mNotImplementedError\u001b[0m                       Traceback (most recent call last)",
      "Cell \u001b[0;32mIn[8], line 2\u001b[0m\n\u001b[1;32m      1\u001b[0m \u001b[39mwith\u001b[39;00m \u001b[39mopen\u001b[39m(\u001b[39m'\u001b[39m\u001b[39mqutip_program.ll\u001b[39m\u001b[39m'\u001b[39m, \u001b[39m'\u001b[39m\u001b[39mw\u001b[39m\u001b[39m'\u001b[39m) \u001b[39mas\u001b[39;00m file:\n\u001b[0;32m----> 2\u001b[0m     file\u001b[39m.\u001b[39mwrite(circuit_to_qir(teleportation, \u001b[39m\"\u001b[39;49m\u001b[39mtext\u001b[39;49m\u001b[39m\"\u001b[39;49m))\n",
      "File \u001b[0;32m/workspaces/qir-book/qir-book/tutorials/qir-emission/qutip/qutip_qip_qir.py:212\u001b[0m, in \u001b[0;36mcircuit_to_qir\u001b[0;34m(circuit, format, module_name)\u001b[0m\n\u001b[1;32m    206\u001b[0m         builder\u001b[39m.\u001b[39mmz(\n\u001b[1;32m    207\u001b[0m             module\u001b[39m.\u001b[39mqubits[op\u001b[39m.\u001b[39mtargets[\u001b[39m0\u001b[39m]],\n\u001b[1;32m    208\u001b[0m             module\u001b[39m.\u001b[39mresults[op\u001b[39m.\u001b[39mclassical_store],\n\u001b[1;32m    209\u001b[0m         )\n\u001b[1;32m    211\u001b[0m     \u001b[39melse\u001b[39;00m:\n\u001b[0;32m--> 212\u001b[0m         \u001b[39mraise\u001b[39;00m \u001b[39mNotImplementedError\u001b[39;00m(\n\u001b[1;32m    213\u001b[0m             \u001b[39mf\u001b[39m\u001b[39m\"\u001b[39m\u001b[39mInstruction \u001b[39m\u001b[39m{\u001b[39;00mop\u001b[39m}\u001b[39;00m\u001b[39m is not implemented in the QIR base \u001b[39m\u001b[39m\"\u001b[39m\n\u001b[1;32m    214\u001b[0m             \u001b[39m+\u001b[39m \u001b[39m\"\u001b[39m\u001b[39mprofile and may require a custom declaration.\u001b[39m\u001b[39m\"\u001b[39m\n\u001b[1;32m    215\u001b[0m         )\n\u001b[1;32m    217\u001b[0m \u001b[39mif\u001b[39;00m fmt \u001b[39m==\u001b[39m QirFormat\u001b[39m.\u001b[39mTEXT:\n\u001b[1;32m    218\u001b[0m     \u001b[39mreturn\u001b[39;00m module\u001b[39m.\u001b[39mir()\n",
      "\u001b[0;31mNotImplementedError\u001b[0m: Instruction Gate(SNOT, targets=[1], controls=None, classical controls=None, control_value=None) is not implemented in the QIR base profile and may require a custom declaration."
     ]
    }
   ],
   "source": [
    "with open('qutip_program.ll', 'w') as file:\n",
    "    file.write(circuit_to_qir(teleportation, \"text\"))"
   ]
  },
  {
   "cell_type": "code",
   "execution_count": null,
   "metadata": {},
   "outputs": [
    {
     "data": {
      "text/plain": [
       "['__builtins__',\n",
       " '__cached__',\n",
       " '__doc__',\n",
       " '__file__',\n",
       " '__loader__',\n",
       " '__name__',\n",
       " '__package__',\n",
       " '__path__',\n",
       " '__spec__',\n",
       " '__version__',\n",
       " 'circuit',\n",
       " 'circuit_latex',\n",
       " 'operations',\n",
       " 'version']"
      ]
     },
     "execution_count": 9,
     "metadata": {},
     "output_type": "execute_result"
    }
   ],
   "source": [
    "import qutip_qip \n",
    "dir(qutip_qip)"
   ]
  },
  {
   "cell_type": "code",
   "execution_count": null,
   "metadata": {},
   "outputs": [
    {
     "data": {
      "text/plain": [
       "['Enum',\n",
       " 'Gate',\n",
       " 'Measurement',\n",
       " 'NamedTemporaryFile',\n",
       " 'QirFormat',\n",
       " 'QubitCircuit',\n",
       " 'TYPE_CHECKING',\n",
       " 'Union',\n",
       " '__all__',\n",
       " '__builtins__',\n",
       " '__cached__',\n",
       " '__doc__',\n",
       " '__file__',\n",
       " '__loader__',\n",
       " '__name__',\n",
       " '__package__',\n",
       " '__spec__',\n",
       " 'annotations',\n",
       " 'auto',\n",
       " 'b64decode',\n",
       " 'circuit_to_qir',\n",
       " 'mod',\n",
       " 'os',\n",
       " 'overload',\n",
       " 'pqg']"
      ]
     },
     "execution_count": 10,
     "metadata": {},
     "output_type": "execute_result"
    }
   ],
   "source": [
    "import qutip_qip_qir \n",
    "dir(qutip_qip_qir)"
   ]
  },
  {
   "cell_type": "code",
   "execution_count": null,
   "metadata": {},
   "outputs": [
    {
     "data": {
      "text/plain": [
       "['ArrayType',\n",
       " 'Attribute',\n",
       " 'AttributeList',\n",
       " 'AttributeSet',\n",
       " 'BasicBlock',\n",
       " 'BasicQisBuilder',\n",
       " 'Builder',\n",
       " 'Call',\n",
       " 'Constant',\n",
       " 'Context',\n",
       " 'FCmp',\n",
       " 'FloatConstant',\n",
       " 'FloatPredicate',\n",
       " 'Function',\n",
       " 'FunctionType',\n",
       " 'ICmp',\n",
       " 'Instruction',\n",
       " 'IntConstant',\n",
       " 'IntPredicate',\n",
       " 'IntType',\n",
       " 'Linkage',\n",
       " 'Module',\n",
       " 'Opcode',\n",
       " 'Phi',\n",
       " 'PointerType',\n",
       " 'SimpleModule',\n",
       " 'StructType',\n",
       " 'Switch',\n",
       " 'Type',\n",
       " 'Value',\n",
       " '__all__',\n",
       " '__builtins__',\n",
       " '__cached__',\n",
       " '__doc__',\n",
       " '__file__',\n",
       " '__loader__',\n",
       " '__name__',\n",
       " '__package__',\n",
       " '__path__',\n",
       " '__spec__',\n",
       " '_native',\n",
       " '_simple',\n",
       " 'const',\n",
       " 'entry_point',\n",
       " 'extract_byte_string',\n",
       " 'global_byte_string',\n",
       " 'is_entry_point',\n",
       " 'is_interop_friendly',\n",
       " 'is_qubit_type',\n",
       " 'is_result_type',\n",
       " 'qubit',\n",
       " 'qubit_id',\n",
       " 'qubit_type',\n",
       " 'required_num_qubits',\n",
       " 'required_num_results',\n",
       " 'result',\n",
       " 'result_id',\n",
       " 'result_type']"
      ]
     },
     "execution_count": 1,
     "metadata": {},
     "output_type": "execute_result"
    }
   ],
   "source": [
    "import pyqir\n",
    "dir(pyqir)"
   ]
  },
  {
   "cell_type": "code",
   "execution_count": 11,
   "metadata": {},
   "outputs": [
    {
     "data": {
      "text/plain": [
       "<module 'pyqir' from '/opt/conda/envs/qir-book/lib/python3.9/site-packages/pyqir/__init__.py'>"
      ]
     },
     "execution_count": 11,
     "metadata": {},
     "output_type": "execute_result"
    }
   ],
   "source": [
    "pyqir"
   ]
  },
  {
   "cell_type": "code",
   "execution_count": 12,
   "metadata": {},
   "outputs": [
    {
     "ename": "AttributeError",
     "evalue": "module 'pyqir' has no attribute '__version__'",
     "output_type": "error",
     "traceback": [
      "\u001b[0;31m---------------------------------------------------------------------------\u001b[0m",
      "\u001b[0;31mAttributeError\u001b[0m                            Traceback (most recent call last)",
      "Cell \u001b[0;32mIn[12], line 1\u001b[0m\n\u001b[0;32m----> 1\u001b[0m \u001b[39mprint\u001b[39m (pyqir\u001b[39m.\u001b[39;49m__version__)\n",
      "\u001b[0;31mAttributeError\u001b[0m: module 'pyqir' has no attribute '__version__'"
     ]
    }
   ],
   "source": [
    "print (pyqir.__version__)"
   ]
  },
  {
   "cell_type": "code",
   "execution_count": null,
   "metadata": {},
   "outputs": [],
   "source": []
  }
 ],
 "metadata": {
  "kernelspec": {
   "display_name": "qir-book",
   "language": "python",
   "name": "python3"
  },
  "language_info": {
   "codemirror_mode": {
    "name": "ipython",
    "version": 3
   },
   "file_extension": ".py",
   "mimetype": "text/x-python",
   "name": "python",
   "nbconvert_exporter": "python",
   "pygments_lexer": "ipython3",
   "version": "3.9.15"
  },
  "orig_nbformat": 4,
  "vscode": {
   "interpreter": {
    "hash": "e3d8a3e929341ca9805488423d71b9fe5e24a2d3fa1cf3daeab2a7b4b4e474a6"
   }
  }
 },
 "nbformat": 4,
 "nbformat_minor": 2
}
