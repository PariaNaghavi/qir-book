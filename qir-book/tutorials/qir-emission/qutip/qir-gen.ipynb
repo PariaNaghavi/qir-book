{
 "cells": [
  {
   "attachments": {},
   "cell_type": "markdown",
   "metadata": {},
   "source": [
    "## QuTip ➡️ QIR 🚧 ## \n"
   ]
  },
  {
   "cell_type": "markdown",
   "metadata": {},
   "source": []
  },
  {
   "cell_type": "code",
   "execution_count": 1,
   "metadata": {},
   "outputs": [],
   "source": [
    "\n",
    "from qutip_qip.circuit import QubitCircuit, Measurement, Gate\n",
    "from qutip import basis, tensor, identity, ket\n",
    "import numpy as np"
   ]
  },
  {
   "cell_type": "code",
   "execution_count": 2,
   "metadata": {},
   "outputs": [],
   "source": [
    "teleportation = QubitCircuit(3, num_cbits = 2, input_states = [\"\\psi\", \"0\", \"0\", \"c0\", \"c1\"])\n",
    "\n",
    "teleportation.add_gate(\"SNOT\", targets=[1])\n",
    "teleportation.add_gate(\"CNOT\", targets=[2], controls=[1])\n",
    "teleportation.add_gate(\"CNOT\", targets=[1], controls=[0])\n",
    "teleportation.add_gate(\"SNOT\", targets=[0])\n",
    "teleportation.add_measurement(\"M0\", targets=[0], classical_store=1)\n",
    "teleportation.add_measurement(\"M1\", targets=[1], classical_store=0)\n",
    "teleportation.add_gate(\"X\", targets=[2], classical_controls=[0])\n",
    "teleportation.add_gate(\"Z\", targets=[2], classical_controls=[1])\n"
   ]
  },
  {
   "cell_type": "code",
   "execution_count": 3,
   "metadata": {},
   "outputs": [
    {
     "data": {
      "text/plain": [
       "[Gate(SNOT, targets=[1], controls=None, classical controls=None, control_value=None),\n",
       " Gate(CNOT, targets=[2], controls=[1], classical controls=None, control_value=None),\n",
       " Gate(CNOT, targets=[1], controls=[0], classical controls=None, control_value=None),\n",
       " Gate(SNOT, targets=[0], controls=None, classical controls=None, control_value=None),\n",
       " Measurement(M0, target=[0], classical_store=1),\n",
       " Measurement(M1, target=[1], classical_store=0),\n",
       " Gate(X, targets=[2], controls=None, classical controls=[0], control_value=None),\n",
       " Gate(Z, targets=[2], controls=None, classical controls=[1], control_value=None)]"
      ]
     },
     "execution_count": 3,
     "metadata": {},
     "output_type": "execute_result"
    }
   ],
   "source": [
    "teleportation.gates"
   ]
  },
  {
   "cell_type": "code",
   "execution_count": 4,
   "metadata": {},
   "outputs": [],
   "source": [
    "def ket_0():\n",
    "    return ket(\"0\")\n",
    "\n",
    "def ket_1():\n",
    "    return ket(\"1\")\n",
    "to_send = [0, 1, 0, 0, 1, 0, 0, 0, 0, 1, 1, 0, 0, 1, 0, 1, 0, 1, 1, 0, 1, 1,\n",
    "       0, 0, 0, 1, 1, 0, 1, 1, 0, 0, 0, 1, 1, 0, 1, 1, 1, 1, 0, 0, 1, 0,\n",
    "       0, 0, 0, 0, 0, 1, 1, 1, 0, 1, 1, 1, 0, 1, 1, 0, 1, 1, 1, 1, 0, 1,\n",
    "       1, 1, 0, 0, 1, 0, 0, 1, 1, 0, 1, 1, 0, 0, 0, 1, 1, 0, 0, 1, 0, 0,\n",
    "       0, 0, 1, 0, 0, 0, 0, 1]"
   ]
  },
  {
   "cell_type": "code",
   "execution_count": 5,
   "metadata": {},
   "outputs": [],
   "source": [
    "# collecting teleported messages \n",
    "teleported=[]\n",
    "for x in to_send: \n",
    "    msg= ket(str(x))\n",
    "    state = tensor(msg, basis(2,0), basis(2,0))\n",
    "    state_final = teleportation.run(state)\n",
    "    final_measurement = Measurement(\"start\", targets=[2])\n",
    "    result = final_measurement.measurement_comp_basis(state_final)[-1]\n",
    "    if np.array_equal(result, [1, 0]): teleported.append (0)\n",
    "    if np.array_equal(result, [0, 1]): teleported.append (1)\n"
   ]
  },
  {
   "cell_type": "code",
   "execution_count": 6,
   "metadata": {},
   "outputs": [
    {
     "data": {
      "text/plain": [
       "'Hello world!'"
      ]
     },
     "execution_count": 6,
     "metadata": {},
     "output_type": "execute_result"
    }
   ],
   "source": [
    "# encoding binary to utf-8\n",
    "teleported_str = ''.join(str(x) for x in teleported)\n",
    "teleported_base2= int(teleported_str, 2)\n",
    "teleported_base2_chunks= (teleported_base2.bit_length() +7) // 8\n",
    "teleported_bytes = teleported_base2.to_bytes(teleported_base2_chunks, \"big\")\n",
    "received =teleported_bytes.decode(encoding='utf-8')\n",
    "received"
   ]
  },
  {
   "attachments": {},
   "cell_type": "markdown",
   "metadata": {},
   "source": [
    "# 🚧 under construction 🚧 #"
   ]
  },
  {
   "cell_type": "code",
   "execution_count": 15,
   "metadata": {},
   "outputs": [],
   "source": [
    "#from qutip_qip_qir import circuit_to_qir\n",
    "from qutip_qip_qir import *\n",
    "from qutip_qip_qir import circuit_to_qir\n",
    "from qutip_qip.operations import Gate\n",
    "from qutip_qip.circuit import Measurement#, Gate\n",
    "import pyqir\n"
   ]
  },
  {
   "cell_type": "code",
   "execution_count": 16,
   "metadata": {},
   "outputs": [
    {
     "ename": "AttributeError",
     "evalue": "'Gate' object has no attribute 'classical_control_value'",
     "output_type": "error",
     "traceback": [
      "\u001b[0;31m---------------------------------------------------------------------------\u001b[0m",
      "\u001b[0;31mAttributeError\u001b[0m                            Traceback (most recent call last)",
      "Cell \u001b[0;32mIn[16], line 2\u001b[0m\n\u001b[1;32m      1\u001b[0m \u001b[39mwith\u001b[39;00m \u001b[39mopen\u001b[39m(\u001b[39m'\u001b[39m\u001b[39mqutip_program.ll\u001b[39m\u001b[39m'\u001b[39m, \u001b[39m'\u001b[39m\u001b[39mw\u001b[39m\u001b[39m'\u001b[39m) \u001b[39mas\u001b[39;00m file:\n\u001b[0;32m----> 2\u001b[0m     file\u001b[39m.\u001b[39mwrite(circuit_to_qir(teleportation, \u001b[39m\"\u001b[39;49m\u001b[39mtext\u001b[39;49m\u001b[39m\"\u001b[39;49m))\n",
      "File \u001b[0;32m/workspaces/qir-book/qir-book/tutorials/qir-emission/qutip/qutip_qip_qir.py:198\u001b[0m, in \u001b[0;36mcircuit_to_qir\u001b[0;34m(circuit, format, module_name)\u001b[0m\n\u001b[1;32m    192\u001b[0m \u001b[39mfor\u001b[39;00m op \u001b[39min\u001b[39;00m circuit\u001b[39m.\u001b[39mgates:\n\u001b[1;32m    193\u001b[0m     \u001b[39m# If we have a QuTiP gate, then we need to convert it into one of\u001b[39;00m\n\u001b[1;32m    194\u001b[0m     \u001b[39m# the reserved operation names in the QIR base profile's quantum\u001b[39;00m\n\u001b[1;32m    195\u001b[0m     \u001b[39m# instruction set (QIS).\u001b[39;00m\n\u001b[1;32m    196\u001b[0m     \u001b[39mif\u001b[39;00m \u001b[39misinstance\u001b[39m(op, Gate):\n\u001b[1;32m    197\u001b[0m         \u001b[39m# TODO: Validate indices.\u001b[39;00m\n\u001b[0;32m--> 198\u001b[0m         append_operation(module, builder, op)\n\u001b[1;32m    200\u001b[0m     \u001b[39melif\u001b[39;00m \u001b[39misinstance\u001b[39m(op, Measurement):\n\u001b[1;32m    201\u001b[0m         builder\u001b[39m.\u001b[39mmz(\n\u001b[1;32m    202\u001b[0m             module\u001b[39m.\u001b[39mqubits[op\u001b[39m.\u001b[39mtargets[\u001b[39m0\u001b[39m]],\n\u001b[1;32m    203\u001b[0m             module\u001b[39m.\u001b[39mresults[op\u001b[39m.\u001b[39mclassical_store],\n\u001b[1;32m    204\u001b[0m         )\n",
      "File \u001b[0;32m/workspaces/qir-book/qir-book/tutorials/qir-emission/qutip/qutip_qip_qir.py:119\u001b[0m, in \u001b[0;36mcircuit_to_qir.<locals>.append_operation\u001b[0;34m(module, builder, op)\u001b[0m\n\u001b[1;32m    117\u001b[0m \u001b[39mif\u001b[39;00m op\u001b[39m.\u001b[39mclassical_controls:\n\u001b[1;32m    118\u001b[0m     result \u001b[39m=\u001b[39m op\u001b[39m.\u001b[39mclassical_controls[\u001b[39m0\u001b[39m]\n\u001b[0;32m--> 119\u001b[0m     value \u001b[39m=\u001b[39m \u001b[39m\"\u001b[39m\u001b[39mzero\u001b[39m\u001b[39m\"\u001b[39m \u001b[39mif\u001b[39;00m op\u001b[39m.\u001b[39;49mclassical_control_value \u001b[39m==\u001b[39m \u001b[39m0\u001b[39m \u001b[39melse\u001b[39;00m \u001b[39m\"\u001b[39m\u001b[39mone\u001b[39m\u001b[39m\"\u001b[39m\n\u001b[1;32m    120\u001b[0m     \u001b[39m# Pull off the first control and recurse.\u001b[39;00m\n\u001b[1;32m    121\u001b[0m     op_with_less_controls \u001b[39m=\u001b[39m Gate(\u001b[39m*\u001b[39m\u001b[39m*\u001b[39mop\u001b[39m.\u001b[39m\u001b[39m__dict__\u001b[39m)\n",
      "\u001b[0;31mAttributeError\u001b[0m: 'Gate' object has no attribute 'classical_control_value'"
     ]
    }
   ],
   "source": [
    "with open('qutip_program.ll', 'w') as file:\n",
    "    file.write(circuit_to_qir(teleportation, \"text\"))"
   ]
  },
  {
   "cell_type": "code",
   "execution_count": 17,
   "metadata": {},
   "outputs": [
    {
     "data": {
      "text/plain": [
       "['__add__',\n",
       " '__class__',\n",
       " '__contains__',\n",
       " '__delattr__',\n",
       " '__dir__',\n",
       " '__doc__',\n",
       " '__eq__',\n",
       " '__format__',\n",
       " '__ge__',\n",
       " '__getattribute__',\n",
       " '__getitem__',\n",
       " '__getnewargs__',\n",
       " '__gt__',\n",
       " '__hash__',\n",
       " '__init__',\n",
       " '__init_subclass__',\n",
       " '__iter__',\n",
       " '__le__',\n",
       " '__len__',\n",
       " '__lt__',\n",
       " '__mod__',\n",
       " '__mul__',\n",
       " '__ne__',\n",
       " '__new__',\n",
       " '__reduce__',\n",
       " '__reduce_ex__',\n",
       " '__repr__',\n",
       " '__rmod__',\n",
       " '__rmul__',\n",
       " '__setattr__',\n",
       " '__sizeof__',\n",
       " '__str__',\n",
       " '__subclasshook__',\n",
       " 'capitalize',\n",
       " 'casefold',\n",
       " 'center',\n",
       " 'count',\n",
       " 'encode',\n",
       " 'endswith',\n",
       " 'expandtabs',\n",
       " 'find',\n",
       " 'format',\n",
       " 'format_map',\n",
       " 'index',\n",
       " 'isalnum',\n",
       " 'isalpha',\n",
       " 'isascii',\n",
       " 'isdecimal',\n",
       " 'isdigit',\n",
       " 'isidentifier',\n",
       " 'islower',\n",
       " 'isnumeric',\n",
       " 'isprintable',\n",
       " 'isspace',\n",
       " 'istitle',\n",
       " 'isupper',\n",
       " 'join',\n",
       " 'ljust',\n",
       " 'lower',\n",
       " 'lstrip',\n",
       " 'maketrans',\n",
       " 'partition',\n",
       " 'removeprefix',\n",
       " 'removesuffix',\n",
       " 'replace',\n",
       " 'rfind',\n",
       " 'rindex',\n",
       " 'rjust',\n",
       " 'rpartition',\n",
       " 'rsplit',\n",
       " 'rstrip',\n",
       " 'split',\n",
       " 'splitlines',\n",
       " 'startswith',\n",
       " 'strip',\n",
       " 'swapcase',\n",
       " 'title',\n",
       " 'translate',\n",
       " 'upper',\n",
       " 'zfill']"
      ]
     },
     "execution_count": 17,
     "metadata": {},
     "output_type": "execute_result"
    }
   ],
   "source": [
    "import pyqir\n",
    "dir(pyqir.SimpleModule.__module__)"
   ]
  },
  {
   "cell_type": "code",
   "execution_count": null,
   "metadata": {},
   "outputs": [],
   "source": []
  },
  {
   "cell_type": "code",
   "execution_count": null,
   "metadata": {},
   "outputs": [],
   "source": []
  }
 ],
 "metadata": {
  "kernelspec": {
   "display_name": "qir-book",
   "language": "python",
   "name": "python3"
  },
  "language_info": {
   "codemirror_mode": {
    "name": "ipython",
    "version": 3
   },
   "file_extension": ".py",
   "mimetype": "text/x-python",
   "name": "python",
   "nbconvert_exporter": "python",
   "pygments_lexer": "ipython3",
   "version": "3.9.15"
  },
  "orig_nbformat": 4,
  "vscode": {
   "interpreter": {
    "hash": "e3d8a3e929341ca9805488423d71b9fe5e24a2d3fa1cf3daeab2a7b4b4e474a6"
   }
  }
 },
 "nbformat": 4,
 "nbformat_minor": 2
}
