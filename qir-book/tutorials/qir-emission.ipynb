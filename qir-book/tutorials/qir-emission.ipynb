{
 "cells": [
  {
   "attachments": {},
   "cell_type": "markdown",
   "metadata": {},
   "source": [
    "# QIR Generation\n"
   ]
  },
  {
   "attachments": {},
   "cell_type": "markdown",
   "metadata": {},
   "source": [
    "In this section, we will explore the generation of QIR from various front-ends such as Q#, QuTip, Cirq, and Qiskit. To demonstrate this process, we will use the example of teleporting the binary representation of \"Hello World!\" and emitting the QIR of the corresponding hybrid instruction. The teleportation protocol is heterogeneous, comprised both classical and quantum instructions. The interdependent conditionals following the measurement of the message and the auxiliary qubits in teleportation determine the next quantum gate operations on the target qubit.  \n",
    "From python-based frameworks we can utilize [PyQIR](https://github.com/qir-alliance/pyqir) APIs to generate QIR.  In the case of Q#, there are two options available for emitting QIR: the use of the magic command within a Jupyter notebook, or the [setting](https://github.com/microsoft/qsharp-compiler/blob/main/examples/QIR/Emission/Emission.csproj) the QIR XML tag in the C# project file. "
   ]
  },
  {
   "cell_type": "markdown",
   "metadata": {},
   "source": []
  },
  {
   "attachments": {},
   "cell_type": "markdown",
   "metadata": {},
   "source": [
    "\n"
   ]
  }
 ],
 "metadata": {
  "kernelspec": {
   "display_name": "Python 3",
   "language": "python",
   "name": "python3"
  },
  "language_info": {
   "codemirror_mode": {
    "name": "ipython",
    "version": 3
   },
   "file_extension": ".py",
   "mimetype": "text/x-python",
   "name": "python",
   "nbconvert_exporter": "python",
   "pygments_lexer": "ipython3",
   "version": "3.10.6 (main, Aug 11 2022, 13:49:25) [Clang 13.1.6 (clang-1316.0.21.2.5)]"
  },
  "vscode": {
   "interpreter": {
    "hash": "aee8b7b246df8f9039afb4144a1f6fd8d2ca17a180786b69acc140d282b71a49"
   }
  },
  "widgets": {
   "application/vnd.jupyter.widget-state+json": {
    "state": {},
    "version_major": 2,
    "version_minor": 0
   }
  }
 },
 "nbformat": 4,
 "nbformat_minor": 4
}
