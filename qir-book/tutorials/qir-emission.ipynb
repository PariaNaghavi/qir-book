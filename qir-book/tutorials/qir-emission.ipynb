{
 "cells": [
  {
   "attachments": {},
   "cell_type": "markdown",
   "metadata": {},
   "source": [
    "# QIR Generation\n"
   ]
  },
  {
   "attachments": {},
   "cell_type": "markdown",
   "metadata": {},
   "source": [
    "In this section, we will explore the generation of QIR from various development frameworks such as Q#, QuTip, and Qiskit. To demonstrate this process, we will use the example of teleporting the binary representation of \"Hello World!\" and emitting the QIR of the corresponding hybrid instruction. The teleportation protocol is heterogeneous, comprised both classical and quantum instructions. The interdependent conditionals following the measurement of the message and the auxiliary qubits in teleportation determine the next quantum gate operations on the target qubit.  \n",
    "For python-based frameworks we can utilize [PyQIR](https://github.com/qir-alliance/pyqir) APIs to generate QIR.  In the case of Q#, there are two options available for emitting QIR: the use of the magic command within a [Jupyter notebook](qir-book/tutorials/qir-emission/qsharp/in_jupyter/qsharp-magic.ipynb), or the [setting](https://github.com/microsoft/qsharp-compiler/blob/main/examples/QIR/Emission/Emission.csproj) the QIR XML tag in the C# project file. "
   ]
  },
  {
   "cell_type": "markdown",
   "metadata": {},
   "source": []
  },
  {
   "cell_type": "markdown",
   "metadata": {},
   "source": []
  },
  {
   "attachments": {},
   "cell_type": "markdown",
   "metadata": {},
   "source": [
    "\n"
   ]
  }
 ],
 "metadata": {
  "kernelspec": {
   "display_name": "qir-book",
   "language": "python",
   "name": "python3"
  },
  "language_info": {
   "codemirror_mode": {
    "name": "ipython",
    "version": 3
   },
   "file_extension": ".py",
   "mimetype": "text/x-python",
   "name": "python",
   "nbconvert_exporter": "python",
   "pygments_lexer": "ipython3",
   "version": "3.9.15 | packaged by conda-forge | (main, Nov 22 2022, 15:55:03) \n[GCC 10.4.0]"
  },
  "vscode": {
   "interpreter": {
    "hash": "e3d8a3e929341ca9805488423d71b9fe5e24a2d3fa1cf3daeab2a7b4b4e474a6"
   }
  },
  "widgets": {
   "application/vnd.jupyter.widget-state+json": {
    "state": {},
    "version_major": 2,
    "version_minor": 0
   }
  }
 },
 "nbformat": 4,
 "nbformat_minor": 4
}
