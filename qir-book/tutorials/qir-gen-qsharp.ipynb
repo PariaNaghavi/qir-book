{
 "cells": [
  {
   "cell_type": "markdown",
   "metadata": {},
   "source": [
    "# QIR generation with Q\\#\n",
    "\n",
    "_Tutorials are narrated examples of using QIR as a part of some workflow or with a particular set of tools._\n",
    "\n",
    "- using the `%qir` magic command in notebooks: https://docs.microsoft.com/en-us/qsharp/api/iqsharp-magic/qir\n",
    "- use the project file flag to specify QIR compilation of a Q# program: https://github.com/microsoft/qsharp-compiler/tree/main/src/QsCompiler/QirGeneration"
   ]
  },
  {
   "cell_type": "code",
   "execution_count": 1,
   "metadata": {},
   "outputs": [
    {
     "data": {
      "application/x-qsharp-data": "[\"Teleport\",\"TeleportClassicalMessage\",\"TeleportRandomMessage\",\"PrepareRandomMessage\",\"SetToPlus\",\"SetToMinus\",\"MeasureIsPlus\",\"MeasureIsMinus\",\"RunProgram\"]",
      "text/html": [
       "<ul><li>Teleport</li><li>TeleportClassicalMessage</li><li>TeleportRandomMessage</li><li>PrepareRandomMessage</li><li>SetToPlus</li><li>SetToMinus</li><li>MeasureIsPlus</li><li>MeasureIsMinus</li><li>RunProgram</li></ul>"
      ],
      "text/plain": [
       "Teleport, TeleportClassicalMessage, TeleportRandomMessage, PrepareRandomMessage, SetToPlus, SetToMinus, MeasureIsPlus, MeasureIsMinus, RunProgram"
      ]
     },
     "execution_count": 1,
     "metadata": {},
     "output_type": "execute_result"
    }
   ],
   "source": [
    "// https://github.com/microsoft/Quantum/blob/main/samples/getting-started/teleportation/TeleportationSample.qs\n",
    "// Copyright (c) Microsoft Corporation.\n",
    "// Licensed under the MIT License.\n",
    "\n",
    "open Microsoft.Quantum.Intrinsic;\n",
    "open Microsoft.Quantum.Canon;\n",
    "open Microsoft.Quantum.Measurement;\n",
    "open Microsoft.Quantum.Random;\n",
    "\n",
    "\n",
    "operation Teleport (msg : Qubit, target : Qubit) : Unit {\n",
    "    use register = Qubit();\n",
    "\n",
    "    H(register);\n",
    "    CNOT(register, target);\n",
    "\n",
    "    CNOT(msg, register);\n",
    "    H(msg);\n",
    "\n",
    "\n",
    "    if (MResetZ(msg) == One) { Z(target); }\n",
    "\n",
    "    if (IsResultOne(MResetZ(register))) { X(target); }\n",
    "}\n",
    "\n",
    "operation TeleportClassicalMessage (message : Bool) : Bool {\n",
    "   \n",
    "    use (msg, target) = (Qubit(), Qubit());\n",
    "\n",
    "   \n",
    "    if (message) {\n",
    "        X(msg);\n",
    "    }\n",
    "\n",
    " \n",
    "    Teleport(msg, target);\n",
    "\n",
    "    \n",
    "    return MResetZ(target) == One;\n",
    "}\n",
    "\n",
    "operation TeleportRandomMessage () : Unit {\n",
    "   \n",
    "    use (msg, target) = (Qubit(), Qubit());\n",
    "    PrepareRandomMessage(msg);\n",
    "    Teleport(msg, target);\n",
    "    if (MeasureIsPlus(target))  { Message(\"Received |+>\"); }\n",
    "    if (MeasureIsMinus(target)) { Message(\"Received |->\"); }\n",
    "    Reset(msg);\n",
    "    Reset(target);\n",
    "}\n",
    "\n",
    "operation PrepareRandomMessage(q: Qubit) : Unit {        \n",
    "    let choice = DrawRandomBool(0.5);\n",
    "\n",
    "    if (choice) {\n",
    "        Message(\"Sending |−⟩\");\n",
    "        SetToMinus(q);\n",
    "    } else {\n",
    "        Message(\"Sending |+⟩\");\n",
    "        SetToPlus(q);\n",
    "    }\n",
    "\n",
    "}\n",
    "\n",
    "operation SetToPlus(q: Qubit) : Unit {\n",
    "    Reset(q);\n",
    "    H(q);\n",
    "}\n",
    "\n",
    "operation SetToMinus(q: Qubit) : Unit {\n",
    "    Reset(q);\n",
    "    X(q);\n",
    "    H(q);\n",
    "}\n",
    "\n",
    "operation MeasureIsPlus(q: Qubit) : Bool {\n",
    "    return (Measure([PauliX], [q]) == Zero);\n",
    "}\n",
    "\n",
    "operation MeasureIsMinus(q: Qubit) : Bool {\n",
    "    return (Measure([PauliX], [q]) == One);\n",
    "}\n",
    "\n",
    "@EntryPoint()\n",
    "operation RunProgram () : Unit {\n",
    "    for idxRun in 1 .. 8 {\n",
    "        let sent = DrawRandomBool(0.5);\n",
    "        let received = TeleportClassicalMessage(sent);\n",
    "        Message($\"Round {idxRun}: Sent {sent}, got {received}.\");\n",
    "        Message(sent == received ? \"Teleportation successful!\" | \"\");\n",
    "    }\n",
    "}\n"
   ]
  },
  {
   "cell_type": "code",
   "execution_count": 2,
   "metadata": {},
   "outputs": [
    {
     "name": "stdout",
     "output_type": "stream",
     "text": [
      "Sending |−⟩\n",
      "Received |->\n"
     ]
    },
    {
     "data": {
      "application/x-qsharp-data": "{\"@type\":\"tuple\"}",
      "text/plain": [
       "()"
      ]
     },
     "execution_count": 2,
     "metadata": {},
     "output_type": "execute_result"
    }
   ],
   "source": [
    "%simulate TeleportRandomMessage"
   ]
  },
  {
   "cell_type": "code",
   "execution_count": 3,
   "metadata": {},
   "outputs": [
    {
     "name": "stderr",
     "output_type": "stream",
     "text": [
      "Could not load file or assembly 'System.Configuration.ConfigurationManager, Version=6.0.0.0, Culture=neutral, PublicKeyToken=cc7b13ffcd2ddd51'. Could not find or load a specific file. (0x80131621)\n"
     ]
    }
   ],
   "source": [
    "%qir RunProgram"
   ]
  },
  {
   "cell_type": "markdown",
   "metadata": {},
   "source": []
  }
 ],
 "metadata": {
  "kernelspec": {
   "display_name": "Q#",
   "language": "qsharp",
   "name": "iqsharp"
  },
  "language_info": {
   "file_extension": ".qs",
   "mimetype": "text/x-qsharp",
   "name": "qsharp",
   "version": "0.24"
  },
  "widgets": {
   "application/vnd.jupyter.widget-state+json": {
    "state": {},
    "version_major": 2,
    "version_minor": 0
   }
  }
 },
 "nbformat": 4,
 "nbformat_minor": 4
}
