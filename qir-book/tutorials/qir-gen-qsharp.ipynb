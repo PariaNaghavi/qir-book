{
 "cells": [
  {
   "cell_type": "markdown",
   "metadata": {},
   "source": [
    "# QIR generation with Q#\n",
    "\n",
    "_Tutorials are narrated examples of using QIR as a part of some workflow or with a particular set of tools._\n",
    "\n",
    "- using the `%qir` magic command in notebooks: https://docs.microsoft.com/en-us/qsharp/api/iqsharp-magic/qir\n",
    "- use the project file flag to specify QIR compilation of a Q# program: https://github.com/microsoft/qsharp-compiler/tree/main/src/QsCompiler/QirGeneration"
   ]
  },
  {
   "cell_type": "code",
   "execution_count": null,
   "metadata": {},
   "outputs": [],
   "source": [
    "// Building on https://github.com/microsoft/Quantum/blob/main/samples/getting-started/teleportation/TeleportationSample.qs\n",
    "// Copyright (c) Microsoft Corporation.\n",
    "// Licensed under the MIT License.\n",
    "open Microsoft.Quantum.Intrinsic;\n",
    "open Microsoft.Quantum.Canon;\n",
    "open Microsoft.Quantum.Measurement;\n",
    "open Microsoft.Quantum.Core;\n",
    "open Microsoft.Quantum.Arrays;"
   ]
  },
  {
   "cell_type": "code",
   "execution_count": null,
   "metadata": {},
   "outputs": [],
   "source": [
    "operation int2bool(bit: Int) : Bool {\n",
    "        if (bit == 1){return true;}\n",
    "        else {return false;}\n",
    "    }\n",
    "\n",
    " operation bool2int(msg: Bool) : Int {\n",
    "        if (msg == true){return 1;}\n",
    "        else {return 0;}\n",
    "    }\n",
    "\n",
    "operation Teleport (msg : Qubit, target : Qubit) : Unit {\n",
    "    use register = Qubit();\n",
    "\n",
    "    H(register);\n",
    "    CNOT(register, target);\n",
    "\n",
    "    CNOT(msg, register);\n",
    "    H(msg);\n",
    "\n",
    "\n",
    "    if (MResetZ(msg) == One) { Z(target); }\n",
    "\n",
    "    if (IsResultOne(MResetZ(register))) { X(target); }\n",
    "}\n",
    "\n",
    "operation TeleportClassicalMessage (message : Bool) : Bool {\n",
    "   \n",
    "    use (msg, target) = (Qubit(), Qubit());\n",
    "\n",
    "   \n",
    "    if (message) {\n",
    "        X(msg);\n",
    "    }\n",
    "\n",
    " \n",
    "    Teleport(msg, target);\n",
    "\n",
    "    \n",
    "    return MResetZ(target) == One;\n",
    "}"
   ]
  },
  {
   "cell_type": "code",
   "execution_count": null,
   "metadata": {},
   "outputs": [],
   "source": [
    "\n",
    "operation Greetings() : Unit { \n",
    "    mutable binary=[1, 0, 1, 0, 0];\n",
    "    let msg = ForEach(int2bool, binary);\n",
    "    let transferred= ForEach(TeleportClassicalMessage, msg);\n",
    "    for index in 0 .. Length(transferred)-1{\n",
    "        Message($\" got {transferred[index]}.\");\n",
    "    }     \n",
    "}"
   ]
  },
  {
   "cell_type": "code",
   "execution_count": null,
   "metadata": {},
   "outputs": [],
   "source": [
    "%simulate Greetings"
   ]
  },
  {
   "cell_type": "markdown",
   "metadata": {},
   "source": []
  }
 ],
 "metadata": {
  "kernelspec": {
   "display_name": "Q#",
   "language": "qsharp",
   "name": "iqsharp"
  },
  "language_info": {
   "file_extension": ".qs",
   "mimetype": "text/x-qsharp",
   "name": "qsharp",
   "version": "0.24"
  },
  "widgets": {
   "application/vnd.jupyter.widget-state+json": {
    "state": {},
    "version_major": 2,
    "version_minor": 0
   }
  }
 },
 "nbformat": 4,
 "nbformat_minor": 4
}
