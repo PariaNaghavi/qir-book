{
 "cells": [
  {
   "attachments": {},
   "cell_type": "markdown",
   "metadata": {},
   "source": [
    "## QuTip ➡️ QIR 🚧 ## \n"
   ]
  },
  {
   "cell_type": "markdown",
   "metadata": {},
   "source": []
  },
  {
   "cell_type": "code",
   "execution_count": 13,
   "metadata": {},
   "outputs": [
    {
     "name": "stdout",
     "output_type": "stream",
     "text": [
      "[0, 2, 4, 6, 8]\n",
      "[1, 3, 5, 7, 9]\n"
     ]
    }
   ],
   "source": [
    "from qutip_qip.circuit import Measurement, Gate\n",
    "import pyqir\n",
    "# write a for loop to separte data into even and odd numbers into different list\n",
    "even = []   # create an empty list  \n",
    "odd = []    # create an empty list\n",
    "for i in range(0, 10):\n",
    "    if i % 2 == 0:\n",
    "        even.append(i)\n",
    "    else:\n",
    "        odd.append(i)\n",
    "print(even)\n",
    "print(odd)"
   ]
  },
  {
   "cell_type": "code",
   "execution_count": null,
   "metadata": {},
   "outputs": [],
   "source": [
    "from qutip_qip.circuit import Measurement, Gate\n",
    "from qutip_qip.qir import circuit_to_qir\n",
    "import pyqir\n",
    "with open('test_vellvm_pureClassical.ll', 'w') as file:\n",
    "    file.write(circuit_to_qir(teleportation, \"text\"))"
   ]
  },
  {
   "cell_type": "code",
   "execution_count": 1,
   "metadata": {},
   "outputs": [],
   "source": [
    "\n",
    "from qutip_qip.circuit import QubitCircuit, Measurement, Gate\n",
    "from qutip import basis, tensor, identity, ket\n",
    "import numpy as np"
   ]
  },
  {
   "cell_type": "code",
   "execution_count": 2,
   "metadata": {},
   "outputs": [],
   "source": [
    "teleportation = QubitCircuit(3, num_cbits = 2, input_states = [\"\\psi\", \"0\", \"0\", \"c0\", \"c1\"])\n",
    "\n",
    "teleportation.add_gate(\"SNOT\", targets=[1])\n",
    "teleportation.add_gate(\"CNOT\", targets=[2], controls=[1])\n",
    "teleportation.add_gate(\"CNOT\", targets=[1], controls=[0])\n",
    "teleportation.add_gate(\"SNOT\", targets=[0])\n",
    "teleportation.add_measurement(\"M0\", targets=[0], classical_store=1)\n",
    "teleportation.add_measurement(\"M1\", targets=[1], classical_store=0)\n",
    "teleportation.add_gate(\"X\", targets=[2], classical_controls=[0])\n",
    "teleportation.add_gate(\"Z\", targets=[2], classical_controls=[1])\n"
   ]
  },
  {
   "cell_type": "code",
   "execution_count": 3,
   "metadata": {},
   "outputs": [
    {
     "data": {
      "text/plain": [
       "[Gate(SNOT, targets=[1], controls=None, classical controls=None, control_value=None, classical_control_value=None),\n",
       " Gate(CNOT, targets=[2], controls=[1], classical controls=None, control_value=1, classical_control_value=None),\n",
       " Gate(CNOT, targets=[1], controls=[0], classical controls=None, control_value=1, classical_control_value=None),\n",
       " Gate(SNOT, targets=[0], controls=None, classical controls=None, control_value=None, classical_control_value=None),\n",
       " Measurement(M0, target=[0], classical_store=1),\n",
       " Measurement(M1, target=[1], classical_store=0),\n",
       " Gate(X, targets=[2], controls=None, classical controls=[0], control_value=None, classical_control_value=1),\n",
       " Gate(Z, targets=[2], controls=None, classical controls=[1], control_value=None, classical_control_value=1)]"
      ]
     },
     "execution_count": 3,
     "metadata": {},
     "output_type": "execute_result"
    }
   ],
   "source": [
    "teleportation.gates"
   ]
  },
  {
   "cell_type": "code",
   "execution_count": 4,
   "metadata": {},
   "outputs": [],
   "source": [
    "def ket_0():\n",
    "    return ket(\"0\")\n",
    "\n",
    "def ket_1():\n",
    "    return ket(\"1\")\n",
    "to_send = [0, 1, 0, 0, 1, 0, 0, 0, 0, 1, 1, 0, 0, 1, 0, 1, 0, 1, 1, 0, 1, 1,\n",
    "       0, 0, 0, 1, 1, 0, 1, 1, 0, 0, 0, 1, 1, 0, 1, 1, 1, 1, 0, 0, 1, 0,\n",
    "       0, 0, 0, 0, 0, 1, 1, 1, 0, 1, 1, 1, 0, 1, 1, 0, 1, 1, 1, 1, 0, 1,\n",
    "       1, 1, 0, 0, 1, 0, 0, 1, 1, 0, 1, 1, 0, 0, 0, 1, 1, 0, 0, 1, 0, 0,\n",
    "       0, 0, 1, 0, 0, 0, 0, 1]"
   ]
  },
  {
   "cell_type": "code",
   "execution_count": 5,
   "metadata": {},
   "outputs": [
    {
     "name": "stderr",
     "output_type": "stream",
     "text": [
      "/tmp/ipykernel_2574/1482292128.py:7: DeprecationWarning: The class Measurement has been moved to qutip_qip.operations.Please use update the import statement.\n",
      "\n",
      "  final_measurement = Measurement(\"start\", targets=[2])\n"
     ]
    }
   ],
   "source": [
    "# collecting teleported messages \n",
    "teleported=[]\n",
    "for x in to_send: \n",
    "    msg= ket(str(x))\n",
    "    state = tensor(msg, basis(2,0), basis(2,0))\n",
    "    state_final = teleportation.run(state)\n",
    "    final_measurement = Measurement(\"start\", targets=[2])\n",
    "    result = final_measurement.measurement_comp_basis(state_final)[-1]\n",
    "    if np.array_equal(result, [1, 0]): teleported.append (0)\n",
    "    if np.array_equal(result, [0, 1]): teleported.append (1)\n"
   ]
  },
  {
   "cell_type": "code",
   "execution_count": 6,
   "metadata": {},
   "outputs": [
    {
     "data": {
      "text/plain": [
       "'Hello world!'"
      ]
     },
     "execution_count": 6,
     "metadata": {},
     "output_type": "execute_result"
    }
   ],
   "source": [
    "# encoding binary to utf-8\n",
    "teleported_str = ''.join(str(x) for x in teleported)\n",
    "teleported_base2= int(teleported_str, 2)\n",
    "teleported_base2_chunks= (teleported_base2.bit_length() +7) // 8\n",
    "teleported_bytes = teleported_base2.to_bytes(teleported_base2_chunks, \"big\")\n",
    "received =teleported_bytes.decode(encoding='utf-8')\n",
    "received"
   ]
  },
  {
   "cell_type": "code",
   "execution_count": 7,
   "metadata": {},
   "outputs": [],
   "source": [
    "from qutip_qip.circuit import Measurement, Gate\n",
    "from qutip_qip.qir import circuit_to_qir\n",
    "import pyqir\n"
   ]
  },
  {
   "cell_type": "code",
   "execution_count": 9,
   "metadata": {},
   "outputs": [],
   "source": [
    "\n",
    "with open('qutip_program.ll', 'w') as file:\n",
    "    file.write(circuit_to_qir(teleportation, \"text\"))"
   ]
  }
 ],
 "metadata": {
  "kernelspec": {
   "display_name": "qir-book",
   "language": "python",
   "name": "python3"
  },
  "language_info": {
   "codemirror_mode": {
    "name": "ipython",
    "version": 3
   },
   "file_extension": ".py",
   "mimetype": "text/x-python",
   "name": "python",
   "nbconvert_exporter": "python",
   "pygments_lexer": "ipython3",
   "version": "3.9.15"
  },
  "orig_nbformat": 4,
  "vscode": {
   "interpreter": {
    "hash": "e3d8a3e929341ca9805488423d71b9fe5e24a2d3fa1cf3daeab2a7b4b4e474a6"
   }
  }
 },
 "nbformat": 4,
 "nbformat_minor": 2
}
